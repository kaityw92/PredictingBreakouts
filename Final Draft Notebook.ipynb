{
 "cells": [
  {
   "cell_type": "code",
   "execution_count": 1,
   "id": "003c6c86-28aa-4e66-ba32-92de5eec77a2",
   "metadata": {
    "tags": []
   },
   "outputs": [
    {
     "name": "stderr",
     "output_type": "stream",
     "text": [
      "2024-01-22 20:13:55.574145: I tensorflow/core/platform/cpu_feature_guard.cc:182] This TensorFlow binary is optimized to use available CPU instructions in performance-critical operations.\n",
      "To enable the following instructions: AVX2 FMA, in other operations, rebuild TensorFlow with the appropriate compiler flags.\n"
     ]
    }
   ],
   "source": [
    "# Import libraries and dependencies\n",
    "import os\n",
    "import pandas as pd\n",
    "import alpaca_trade_api as tradeapi\n",
    "import numpy as np\n",
    "import matplotlib.pyplot as plt\n",
    "import datetime as dt\n",
    "\n",
    "from sklearn.preprocessing import MinMaxScaler\n",
    "from tensorflow.keras.models import Sequential\n",
    "from tensorflow.keras.layers import Dense, Dropout, LSTM\n",
    "from tensorflow.keras.callbacks import ModelCheckpoint, EarlyStopping\n",
    "from sklearn.model_selection import train_test_split\n",
    "from sklearn.linear_model import LogisticRegression\n",
    "from sklearn.preprocessing import StandardScaler\n",
    "from yahoo_fin.stock_info import get_data\n",
    "from sklearn.metrics import classification_report\n",
    "import warnings\n",
    "from sklearn.preprocessing import LabelEncoder\n",
    "import xgboost as xgb\n",
    "from imblearn.over_sampling import RandomOverSampler\n",
    "from imblearn.under_sampling import RandomUnderSampler\n",
    "from sklearn.tree import DecisionTreeClassifier\n",
    "from sklearn.svm import SVC\n",
    "\n",
    "\n",
    "warnings.filterwarnings(\"ignore\")\n"
   ]
  },
  {
   "cell_type": "markdown",
   "id": "568e2557-3a07-4d41-a12e-c391e2b358fe",
   "metadata": {
    "tags": []
   },
   "source": [
    "# Baseline"
   ]
  },
  {
   "cell_type": "markdown",
   "id": "8b27465a-1ac6-4822-bc9f-71d3ef61f7a1",
   "metadata": {
    "tags": []
   },
   "source": [
    "## Pull Data"
   ]
  },
  {
   "cell_type": "code",
   "execution_count": 2,
   "id": "5aa2673a-7834-452e-bd50-489e540b1513",
   "metadata": {
    "tags": []
   },
   "outputs": [
    {
     "data": {
      "text/html": [
       "<div>\n",
       "<style scoped>\n",
       "    .dataframe tbody tr th:only-of-type {\n",
       "        vertical-align: middle;\n",
       "    }\n",
       "\n",
       "    .dataframe tbody tr th {\n",
       "        vertical-align: top;\n",
       "    }\n",
       "\n",
       "    .dataframe thead th {\n",
       "        text-align: right;\n",
       "    }\n",
       "</style>\n",
       "<table border=\"1\" class=\"dataframe\">\n",
       "  <thead>\n",
       "    <tr style=\"text-align: right;\">\n",
       "      <th></th>\n",
       "      <th>date</th>\n",
       "      <th>open</th>\n",
       "      <th>high</th>\n",
       "      <th>low</th>\n",
       "      <th>close</th>\n",
       "      <th>adjclose</th>\n",
       "      <th>volume</th>\n",
       "      <th>ticker</th>\n",
       "    </tr>\n",
       "  </thead>\n",
       "  <tbody>\n",
       "    <tr>\n",
       "      <th>0</th>\n",
       "      <td>1970-03-25</td>\n",
       "      <td>0.734737</td>\n",
       "      <td>0.757216</td>\n",
       "      <td>0.734737</td>\n",
       "      <td>0.750151</td>\n",
       "      <td>0.497615</td>\n",
       "      <td>2627471</td>\n",
       "      <td>DIS</td>\n",
       "    </tr>\n",
       "    <tr>\n",
       "      <th>1</th>\n",
       "      <td>1970-03-26</td>\n",
       "      <td>0.750151</td>\n",
       "      <td>0.752720</td>\n",
       "      <td>0.740517</td>\n",
       "      <td>0.752720</td>\n",
       "      <td>0.499320</td>\n",
       "      <td>2082514</td>\n",
       "      <td>DIS</td>\n",
       "    </tr>\n",
       "    <tr>\n",
       "      <th>2</th>\n",
       "      <td>1970-03-30</td>\n",
       "      <td>0.754005</td>\n",
       "      <td>0.765565</td>\n",
       "      <td>0.754005</td>\n",
       "      <td>0.762996</td>\n",
       "      <td>0.506136</td>\n",
       "      <td>1109377</td>\n",
       "      <td>DIS</td>\n",
       "    </tr>\n",
       "    <tr>\n",
       "      <th>3</th>\n",
       "      <td>1970-03-31</td>\n",
       "      <td>0.762996</td>\n",
       "      <td>0.764923</td>\n",
       "      <td>0.750151</td>\n",
       "      <td>0.757858</td>\n",
       "      <td>0.502728</td>\n",
       "      <td>1868424</td>\n",
       "      <td>DIS</td>\n",
       "    </tr>\n",
       "    <tr>\n",
       "      <th>4</th>\n",
       "      <td>1970-04-01</td>\n",
       "      <td>0.757858</td>\n",
       "      <td>0.778410</td>\n",
       "      <td>0.747582</td>\n",
       "      <td>0.775841</td>\n",
       "      <td>0.514657</td>\n",
       "      <td>2627471</td>\n",
       "      <td>DIS</td>\n",
       "    </tr>\n",
       "  </tbody>\n",
       "</table>\n",
       "</div>"
      ],
      "text/plain": [
       "        date      open      high       low     close  adjclose   volume ticker\n",
       "0 1970-03-25  0.734737  0.757216  0.734737  0.750151  0.497615  2627471    DIS\n",
       "1 1970-03-26  0.750151  0.752720  0.740517  0.752720  0.499320  2082514    DIS\n",
       "2 1970-03-30  0.754005  0.765565  0.754005  0.762996  0.506136  1109377    DIS\n",
       "3 1970-03-31  0.762996  0.764923  0.750151  0.757858  0.502728  1868424    DIS\n",
       "4 1970-04-01  0.757858  0.778410  0.747582  0.775841  0.514657  2627471    DIS"
      ]
     },
     "execution_count": 2,
     "metadata": {},
     "output_type": "execute_result"
    }
   ],
   "source": [
    "# Get historical prices from first candle to the most recent candle\n",
    "hist_df = get_data('DIS', index_as_date=False)\n",
    "\n",
    "# Show the first 5 rows of our dataframe\n",
    "hist_df.head()"
   ]
  },
  {
   "cell_type": "markdown",
   "id": "3bc957a5-c6c7-4923-b947-74157e2b3304",
   "metadata": {
    "tags": []
   },
   "source": [
    "## Create Prices DataFrame"
   ]
  },
  {
   "cell_type": "code",
   "execution_count": 3,
   "id": "2ce6990e-53cf-48ec-88d3-d9ce8b9fd849",
   "metadata": {
    "tags": []
   },
   "outputs": [
    {
     "data": {
      "text/html": [
       "<div>\n",
       "<style scoped>\n",
       "    .dataframe tbody tr th:only-of-type {\n",
       "        vertical-align: middle;\n",
       "    }\n",
       "\n",
       "    .dataframe tbody tr th {\n",
       "        vertical-align: top;\n",
       "    }\n",
       "\n",
       "    .dataframe thead th {\n",
       "        text-align: right;\n",
       "    }\n",
       "</style>\n",
       "<table border=\"1\" class=\"dataframe\">\n",
       "  <thead>\n",
       "    <tr style=\"text-align: right;\">\n",
       "      <th></th>\n",
       "      <th>date</th>\n",
       "      <th>open</th>\n",
       "      <th>high</th>\n",
       "      <th>low</th>\n",
       "      <th>close</th>\n",
       "      <th>volume</th>\n",
       "      <th>ticker</th>\n",
       "    </tr>\n",
       "  </thead>\n",
       "  <tbody>\n",
       "    <tr>\n",
       "      <th>0</th>\n",
       "      <td>1970-03-25</td>\n",
       "      <td>0.734737</td>\n",
       "      <td>0.757216</td>\n",
       "      <td>0.734737</td>\n",
       "      <td>0.750151</td>\n",
       "      <td>2627471</td>\n",
       "      <td>DIS</td>\n",
       "    </tr>\n",
       "    <tr>\n",
       "      <th>1</th>\n",
       "      <td>1970-03-26</td>\n",
       "      <td>0.750151</td>\n",
       "      <td>0.752720</td>\n",
       "      <td>0.740517</td>\n",
       "      <td>0.752720</td>\n",
       "      <td>2082514</td>\n",
       "      <td>DIS</td>\n",
       "    </tr>\n",
       "    <tr>\n",
       "      <th>2</th>\n",
       "      <td>1970-03-30</td>\n",
       "      <td>0.754005</td>\n",
       "      <td>0.765565</td>\n",
       "      <td>0.754005</td>\n",
       "      <td>0.762996</td>\n",
       "      <td>1109377</td>\n",
       "      <td>DIS</td>\n",
       "    </tr>\n",
       "    <tr>\n",
       "      <th>3</th>\n",
       "      <td>1970-03-31</td>\n",
       "      <td>0.762996</td>\n",
       "      <td>0.764923</td>\n",
       "      <td>0.750151</td>\n",
       "      <td>0.757858</td>\n",
       "      <td>1868424</td>\n",
       "      <td>DIS</td>\n",
       "    </tr>\n",
       "    <tr>\n",
       "      <th>4</th>\n",
       "      <td>1970-04-01</td>\n",
       "      <td>0.757858</td>\n",
       "      <td>0.778410</td>\n",
       "      <td>0.747582</td>\n",
       "      <td>0.775841</td>\n",
       "      <td>2627471</td>\n",
       "      <td>DIS</td>\n",
       "    </tr>\n",
       "  </tbody>\n",
       "</table>\n",
       "</div>"
      ],
      "text/plain": [
       "        date      open      high       low     close   volume ticker\n",
       "0 1970-03-25  0.734737  0.757216  0.734737  0.750151  2627471    DIS\n",
       "1 1970-03-26  0.750151  0.752720  0.740517  0.752720  2082514    DIS\n",
       "2 1970-03-30  0.754005  0.765565  0.754005  0.762996  1109377    DIS\n",
       "3 1970-03-31  0.762996  0.764923  0.750151  0.757858  1868424    DIS\n",
       "4 1970-04-01  0.757858  0.778410  0.747582  0.775841  2627471    DIS"
      ]
     },
     "execution_count": 3,
     "metadata": {},
     "output_type": "execute_result"
    }
   ],
   "source": [
    "prices = hist_df.drop(['adjclose'], axis=1)\n",
    "prices.head()"
   ]
  },
  {
   "cell_type": "markdown",
   "id": "671301db-6559-4844-8d66-7d498b50e3d8",
   "metadata": {
    "tags": []
   },
   "source": [
    "## Create Breakout Features"
   ]
  },
  {
   "cell_type": "code",
   "execution_count": 4,
   "id": "bebd757e-d095-4ce2-8e88-77c95e05bcb7",
   "metadata": {
    "tags": []
   },
   "outputs": [
    {
     "data": {
      "text/html": [
       "<div>\n",
       "<style scoped>\n",
       "    .dataframe tbody tr th:only-of-type {\n",
       "        vertical-align: middle;\n",
       "    }\n",
       "\n",
       "    .dataframe tbody tr th {\n",
       "        vertical-align: top;\n",
       "    }\n",
       "\n",
       "    .dataframe thead th {\n",
       "        text-align: right;\n",
       "    }\n",
       "</style>\n",
       "<table border=\"1\" class=\"dataframe\">\n",
       "  <thead>\n",
       "    <tr style=\"text-align: right;\">\n",
       "      <th></th>\n",
       "      <th>ticker</th>\n",
       "      <th>date</th>\n",
       "      <th>open</th>\n",
       "      <th>high</th>\n",
       "      <th>low</th>\n",
       "      <th>close</th>\n",
       "      <th>O-to-C</th>\n",
       "      <th>OC-20D-Mean</th>\n",
       "      <th>volume</th>\n",
       "      <th>Volume-20D-Mean</th>\n",
       "      <th>MaxOC_Prev10</th>\n",
       "      <th>Volume-%-from-20D-Mean</th>\n",
       "      <th>OC-%-from-20D-Mean</th>\n",
       "    </tr>\n",
       "  </thead>\n",
       "  <tbody>\n",
       "    <tr>\n",
       "      <th>13571</th>\n",
       "      <td>DIS</td>\n",
       "      <td>2024-01-16</td>\n",
       "      <td>90.290001</td>\n",
       "      <td>93.089996</td>\n",
       "      <td>89.459999</td>\n",
       "      <td>93.050003</td>\n",
       "      <td>2.760002</td>\n",
       "      <td>0.109499</td>\n",
       "      <td>16780900</td>\n",
       "      <td>11365470.00</td>\n",
       "      <td>2.760002</td>\n",
       "      <td>47.648096</td>\n",
       "      <td>2420.582210</td>\n",
       "    </tr>\n",
       "    <tr>\n",
       "      <th>13572</th>\n",
       "      <td>DIS</td>\n",
       "      <td>2024-01-17</td>\n",
       "      <td>92.580002</td>\n",
       "      <td>93.760002</td>\n",
       "      <td>90.099998</td>\n",
       "      <td>90.339996</td>\n",
       "      <td>-2.240005</td>\n",
       "      <td>-0.023001</td>\n",
       "      <td>15735200</td>\n",
       "      <td>11274945.00</td>\n",
       "      <td>2.760002</td>\n",
       "      <td>39.558996</td>\n",
       "      <td>9638.527622</td>\n",
       "    </tr>\n",
       "    <tr>\n",
       "      <th>13573</th>\n",
       "      <td>DIS</td>\n",
       "      <td>2024-01-18</td>\n",
       "      <td>90.660004</td>\n",
       "      <td>92.510002</td>\n",
       "      <td>90.410004</td>\n",
       "      <td>92.209999</td>\n",
       "      <td>1.549995</td>\n",
       "      <td>0.046498</td>\n",
       "      <td>12203200</td>\n",
       "      <td>11430925.00</td>\n",
       "      <td>2.760002</td>\n",
       "      <td>6.756015</td>\n",
       "      <td>3233.459128</td>\n",
       "    </tr>\n",
       "    <tr>\n",
       "      <th>13574</th>\n",
       "      <td>DIS</td>\n",
       "      <td>2024-01-19</td>\n",
       "      <td>92.320000</td>\n",
       "      <td>93.580002</td>\n",
       "      <td>91.629997</td>\n",
       "      <td>93.059998</td>\n",
       "      <td>0.739998</td>\n",
       "      <td>0.018998</td>\n",
       "      <td>19782400</td>\n",
       "      <td>11979845.00</td>\n",
       "      <td>2.760002</td>\n",
       "      <td>65.130684</td>\n",
       "      <td>3795.144773</td>\n",
       "    </tr>\n",
       "    <tr>\n",
       "      <th>13575</th>\n",
       "      <td>DIS</td>\n",
       "      <td>2024-01-22</td>\n",
       "      <td>92.870003</td>\n",
       "      <td>95.230003</td>\n",
       "      <td>92.870003</td>\n",
       "      <td>95.080002</td>\n",
       "      <td>2.209999</td>\n",
       "      <td>0.227998</td>\n",
       "      <td>14798553</td>\n",
       "      <td>12066742.65</td>\n",
       "      <td>2.760002</td>\n",
       "      <td>22.639170</td>\n",
       "      <td>869.306472</td>\n",
       "    </tr>\n",
       "  </tbody>\n",
       "</table>\n",
       "</div>"
      ],
      "text/plain": [
       "      ticker       date       open       high        low      close    O-to-C  \\\n",
       "13571    DIS 2024-01-16  90.290001  93.089996  89.459999  93.050003  2.760002   \n",
       "13572    DIS 2024-01-17  92.580002  93.760002  90.099998  90.339996 -2.240005   \n",
       "13573    DIS 2024-01-18  90.660004  92.510002  90.410004  92.209999  1.549995   \n",
       "13574    DIS 2024-01-19  92.320000  93.580002  91.629997  93.059998  0.739998   \n",
       "13575    DIS 2024-01-22  92.870003  95.230003  92.870003  95.080002  2.209999   \n",
       "\n",
       "       OC-20D-Mean    volume  Volume-20D-Mean  MaxOC_Prev10  \\\n",
       "13571     0.109499  16780900      11365470.00      2.760002   \n",
       "13572    -0.023001  15735200      11274945.00      2.760002   \n",
       "13573     0.046498  12203200      11430925.00      2.760002   \n",
       "13574     0.018998  19782400      11979845.00      2.760002   \n",
       "13575     0.227998  14798553      12066742.65      2.760002   \n",
       "\n",
       "       Volume-%-from-20D-Mean  OC-%-from-20D-Mean  \n",
       "13571               47.648096         2420.582210  \n",
       "13572               39.558996         9638.527622  \n",
       "13573                6.756015         3233.459128  \n",
       "13574               65.130684         3795.144773  \n",
       "13575               22.639170          869.306472  "
      ]
     },
     "execution_count": 4,
     "metadata": {},
     "output_type": "execute_result"
    }
   ],
   "source": [
    "\n",
    "# Add difference between closing price and opening price\n",
    "# NOTE: O-to-C is the closing price is higher than the opening price\n",
    "prices['O-to-C'] = prices['close'] - prices['open']\n",
    "prices['OC-20D-Mean'] = prices['O-to-C'].rolling(20).mean()\n",
    "# Calculate the % change of the current day's O-to-C relative to the moving average\n",
    "prices['OC-%-from-20D-Mean'] = 100*(prices['O-to-C'] - prices['OC-20D-Mean'])/prices['OC-20D-Mean']\n",
    "# Get the maximum OC compared to the recent 10 breakouts (including the current breakout)\n",
    "prices['MaxOC_Prev10'] = prices['O-to-C'].rolling(10).max()\n",
    "# Add 20-Day moving average for volume \n",
    "prices['Volume-20D-Mean'] = prices['volume'].rolling(20).mean()\n",
    "# Calculate the % change of the current volume relative to the moving average\n",
    "prices['Volume-%-from-20D-Mean'] = 100*(prices['volume'] - prices['Volume-20D-Mean'])/prices['Volume-20D-Mean']\n",
    "\n",
    "# Rearrange the columns for our dataframe\n",
    "prices = prices[['ticker', 'date', 'open', 'high', 'low', 'close', \n",
    "                 'O-to-C', 'OC-20D-Mean', 'volume', 'Volume-20D-Mean', \n",
    "                 'MaxOC_Prev10', 'Volume-%-from-20D-Mean', 'OC-%-from-20D-Mean', \n",
    "                ]]\n",
    "\n",
    "#drop null values\n",
    "prices = prices.dropna()\n",
    "\n",
    "prices.tail()"
   ]
  },
  {
   "cell_type": "markdown",
   "id": "53fb6c06-bd13-481d-91a3-dbfcf65bdb4e",
   "metadata": {
    "tags": []
   },
   "source": [
    "## Build the Breakout Condition "
   ]
  },
  {
   "cell_type": "markdown",
   "id": "e69dc34a-6743-4c43-a994-2dbe7656579a",
   "metadata": {},
   "source": [
    "## Here are our conditions, find every breakout that:\n",
    "\n",
    "#### -the closing price is higher than the opening price\n",
    "#### -that is longest in 10 days\n",
    "#### -that is at least 100% longer than the average of the previous 20 breakout (including the current breakout)\n",
    "#### -has a volume that is at least 50% higher than the average of the previous 20 breakouts (including the current breakout)"
   ]
  },
  {
   "cell_type": "code",
   "execution_count": 5,
   "id": "e1890663-7c1a-4ef7-b6a7-53a3d1d4d6f4",
   "metadata": {
    "tags": []
   },
   "outputs": [
    {
     "data": {
      "text/plain": [
       "(202, 13)"
      ]
     },
     "execution_count": 5,
     "metadata": {},
     "output_type": "execute_result"
    }
   ],
   "source": [
    "# #Code for Breakout condition that the closing price is higher than the opening price\n",
    "# prices['O-to-C'] >= 0.0\n",
    "# #Code for Breakout condition \"that is longest in 10 days\"\n",
    "# prices['O-to-C'] == prices['MaxOC_Prev10'\n",
    "# #Code for Breakout condition \"that is at least 100% longer than the average of the previous 20 breakout (including the current breakout)\"\n",
    "# prices['OC-%-from-20D-Mean'] >= 100.0\n",
    "# #Code for Breakout condition \"has a volume that is at least 50% higher than the average of the previous 20 breakouts (including the current breakout)\"\n",
    "# prices['Volume-%-from-20D-Mean'] >= 50.0\n",
    "                           \n",
    "#Putting it all together \n",
    "condition = (prices['O-to-C'] >= 0.0) & (prices['O-to-C'] == prices['MaxOC_Prev10']) & (prices['OC-%-from-20D-Mean'] >= 100.0) & (prices['Volume-%-from-20D-Mean'] >= 50.0) \n",
    "breakouts = prices[condition]\n",
    "breakouts.shape"
   ]
  },
  {
   "cell_type": "markdown",
   "id": "54b4eabf-d88d-4b1f-9ce0-26dfeac4dab3",
   "metadata": {
    "tags": []
   },
   "source": [
    "##### By looking at the shape, we can see that Disney only has 202 breakout points going back to 1970 "
   ]
  },
  {
   "cell_type": "markdown",
   "id": "9c90d783-b68b-44e2-b3dd-b48ac6e3bba7",
   "metadata": {
    "tags": []
   },
   "source": [
    "## Create Breakout Column for Prediction"
   ]
  },
  {
   "cell_type": "code",
   "execution_count": 6,
   "id": "124c4c28-69be-4e1a-901d-9e1b295abdef",
   "metadata": {
    "tags": []
   },
   "outputs": [
    {
     "data": {
      "text/html": [
       "<div>\n",
       "<style scoped>\n",
       "    .dataframe tbody tr th:only-of-type {\n",
       "        vertical-align: middle;\n",
       "    }\n",
       "\n",
       "    .dataframe tbody tr th {\n",
       "        vertical-align: top;\n",
       "    }\n",
       "\n",
       "    .dataframe thead th {\n",
       "        text-align: right;\n",
       "    }\n",
       "</style>\n",
       "<table border=\"1\" class=\"dataframe\">\n",
       "  <thead>\n",
       "    <tr style=\"text-align: right;\">\n",
       "      <th></th>\n",
       "      <th>ticker</th>\n",
       "      <th>date</th>\n",
       "      <th>open</th>\n",
       "      <th>high</th>\n",
       "      <th>low</th>\n",
       "      <th>close</th>\n",
       "      <th>O-to-C</th>\n",
       "      <th>OC-20D-Mean</th>\n",
       "      <th>volume</th>\n",
       "      <th>Volume-20D-Mean</th>\n",
       "      <th>MaxOC_Prev10</th>\n",
       "      <th>Volume-%-from-20D-Mean</th>\n",
       "      <th>OC-%-from-20D-Mean</th>\n",
       "    </tr>\n",
       "  </thead>\n",
       "  <tbody>\n",
       "    <tr>\n",
       "      <th>160</th>\n",
       "      <td>DIS</td>\n",
       "      <td>1970-11-09</td>\n",
       "      <td>0.657667</td>\n",
       "      <td>0.692991</td>\n",
       "      <td>0.657667</td>\n",
       "      <td>0.685926</td>\n",
       "      <td>0.028259</td>\n",
       "      <td>0.003821</td>\n",
       "      <td>8875013</td>\n",
       "      <td>2111708.15</td>\n",
       "      <td>0.028259</td>\n",
       "      <td>320.276495</td>\n",
       "      <td>639.483478</td>\n",
       "    </tr>\n",
       "    <tr>\n",
       "      <th>169</th>\n",
       "      <td>DIS</td>\n",
       "      <td>1970-11-20</td>\n",
       "      <td>0.681430</td>\n",
       "      <td>0.719323</td>\n",
       "      <td>0.681430</td>\n",
       "      <td>0.714827</td>\n",
       "      <td>0.033397</td>\n",
       "      <td>0.005106</td>\n",
       "      <td>5644197</td>\n",
       "      <td>2952498.80</td>\n",
       "      <td>0.033397</td>\n",
       "      <td>91.166784</td>\n",
       "      <td>554.073741</td>\n",
       "    </tr>\n",
       "    <tr>\n",
       "      <th>237</th>\n",
       "      <td>DIS</td>\n",
       "      <td>1971-03-02</td>\n",
       "      <td>0.964663</td>\n",
       "      <td>1.008337</td>\n",
       "      <td>0.964663</td>\n",
       "      <td>1.001914</td>\n",
       "      <td>0.037251</td>\n",
       "      <td>0.005523</td>\n",
       "      <td>6198885</td>\n",
       "      <td>3335428.30</td>\n",
       "      <td>0.037251</td>\n",
       "      <td>85.849745</td>\n",
       "      <td>574.421290</td>\n",
       "    </tr>\n",
       "    <tr>\n",
       "      <th>270</th>\n",
       "      <td>DIS</td>\n",
       "      <td>1971-04-19</td>\n",
       "      <td>1.082838</td>\n",
       "      <td>1.127796</td>\n",
       "      <td>1.082838</td>\n",
       "      <td>1.114951</td>\n",
       "      <td>0.032113</td>\n",
       "      <td>0.001349</td>\n",
       "      <td>3396249</td>\n",
       "      <td>1900050.65</td>\n",
       "      <td>0.032113</td>\n",
       "      <td>78.745182</td>\n",
       "      <td>2280.949435</td>\n",
       "    </tr>\n",
       "    <tr>\n",
       "      <th>275</th>\n",
       "      <td>DIS</td>\n",
       "      <td>1971-04-26</td>\n",
       "      <td>1.172753</td>\n",
       "      <td>1.226702</td>\n",
       "      <td>1.172753</td>\n",
       "      <td>1.226702</td>\n",
       "      <td>0.053949</td>\n",
       "      <td>0.005523</td>\n",
       "      <td>3483832</td>\n",
       "      <td>1909295.50</td>\n",
       "      <td>0.053949</td>\n",
       "      <td>82.466884</td>\n",
       "      <td>876.744537</td>\n",
       "    </tr>\n",
       "  </tbody>\n",
       "</table>\n",
       "</div>"
      ],
      "text/plain": [
       "    ticker       date      open      high       low     close    O-to-C  \\\n",
       "160    DIS 1970-11-09  0.657667  0.692991  0.657667  0.685926  0.028259   \n",
       "169    DIS 1970-11-20  0.681430  0.719323  0.681430  0.714827  0.033397   \n",
       "237    DIS 1971-03-02  0.964663  1.008337  0.964663  1.001914  0.037251   \n",
       "270    DIS 1971-04-19  1.082838  1.127796  1.082838  1.114951  0.032113   \n",
       "275    DIS 1971-04-26  1.172753  1.226702  1.172753  1.226702  0.053949   \n",
       "\n",
       "     OC-20D-Mean   volume  Volume-20D-Mean  MaxOC_Prev10  \\\n",
       "160     0.003821  8875013       2111708.15      0.028259   \n",
       "169     0.005106  5644197       2952498.80      0.033397   \n",
       "237     0.005523  6198885       3335428.30      0.037251   \n",
       "270     0.001349  3396249       1900050.65      0.032113   \n",
       "275     0.005523  3483832       1909295.50      0.053949   \n",
       "\n",
       "     Volume-%-from-20D-Mean  OC-%-from-20D-Mean  \n",
       "160              320.276495          639.483478  \n",
       "169               91.166784          554.073741  \n",
       "237               85.849745          574.421290  \n",
       "270               78.745182         2280.949435  \n",
       "275               82.466884          876.744537  "
      ]
     },
     "execution_count": 6,
     "metadata": {},
     "output_type": "execute_result"
    }
   ],
   "source": [
    "#Putting it all together \n",
    "condition = (prices['O-to-C'] >= 0.0) & (prices['O-to-C'] == prices['MaxOC_Prev10']) & (prices['OC-%-from-20D-Mean'] >= 100.0) & (prices['Volume-%-from-20D-Mean'] >= 50.0) \n",
    "breakouts = prices[condition]\n",
    "breakouts.head()"
   ]
  },
  {
   "cell_type": "markdown",
   "id": "17d339ed-2451-4ce0-80e0-273fadaf9ee3",
   "metadata": {
    "tags": []
   },
   "source": [
    "## Create Y - Breakout Signal"
   ]
  },
  {
   "cell_type": "code",
   "execution_count": 7,
   "id": "466b3bd5-649e-4546-8694-10aee8364f9f",
   "metadata": {
    "tags": []
   },
   "outputs": [
    {
     "data": {
      "text/html": [
       "<div>\n",
       "<style scoped>\n",
       "    .dataframe tbody tr th:only-of-type {\n",
       "        vertical-align: middle;\n",
       "    }\n",
       "\n",
       "    .dataframe tbody tr th {\n",
       "        vertical-align: top;\n",
       "    }\n",
       "\n",
       "    .dataframe thead th {\n",
       "        text-align: right;\n",
       "    }\n",
       "</style>\n",
       "<table border=\"1\" class=\"dataframe\">\n",
       "  <thead>\n",
       "    <tr style=\"text-align: right;\">\n",
       "      <th></th>\n",
       "      <th>ticker</th>\n",
       "      <th>date</th>\n",
       "      <th>open</th>\n",
       "      <th>high</th>\n",
       "      <th>low</th>\n",
       "      <th>close</th>\n",
       "      <th>O-to-C</th>\n",
       "      <th>OC-20D-Mean</th>\n",
       "      <th>volume</th>\n",
       "      <th>Volume-20D-Mean</th>\n",
       "      <th>MaxOC_Prev10</th>\n",
       "      <th>Volume-%-from-20D-Mean</th>\n",
       "      <th>OC-%-from-20D-Mean</th>\n",
       "      <th>breakout_signal</th>\n",
       "    </tr>\n",
       "  </thead>\n",
       "  <tbody>\n",
       "    <tr>\n",
       "      <th>19</th>\n",
       "      <td>DIS</td>\n",
       "      <td>1970-04-22</td>\n",
       "      <td>0.675007</td>\n",
       "      <td>0.675650</td>\n",
       "      <td>0.661520</td>\n",
       "      <td>0.666016</td>\n",
       "      <td>-0.008991</td>\n",
       "      <td>-0.002762</td>\n",
       "      <td>3503294</td>\n",
       "      <td>2232377.15</td>\n",
       "      <td>0.007064</td>\n",
       "      <td>56.931099</td>\n",
       "      <td>225.560014</td>\n",
       "      <td>0</td>\n",
       "    </tr>\n",
       "    <tr>\n",
       "      <th>20</th>\n",
       "      <td>DIS</td>\n",
       "      <td>1970-04-23</td>\n",
       "      <td>0.663447</td>\n",
       "      <td>0.663447</td>\n",
       "      <td>0.647391</td>\n",
       "      <td>0.655098</td>\n",
       "      <td>-0.008349</td>\n",
       "      <td>-0.003950</td>\n",
       "      <td>4184491</td>\n",
       "      <td>2310228.15</td>\n",
       "      <td>0.007064</td>\n",
       "      <td>81.128907</td>\n",
       "      <td>111.374949</td>\n",
       "      <td>0</td>\n",
       "    </tr>\n",
       "    <tr>\n",
       "      <th>21</th>\n",
       "      <td>DIS</td>\n",
       "      <td>1970-04-24</td>\n",
       "      <td>0.653813</td>\n",
       "      <td>0.653813</td>\n",
       "      <td>0.634546</td>\n",
       "      <td>0.634546</td>\n",
       "      <td>-0.019267</td>\n",
       "      <td>-0.005042</td>\n",
       "      <td>4671059</td>\n",
       "      <td>2439655.40</td>\n",
       "      <td>0.007064</td>\n",
       "      <td>91.463885</td>\n",
       "      <td>282.156637</td>\n",
       "      <td>0</td>\n",
       "    </tr>\n",
       "    <tr>\n",
       "      <th>22</th>\n",
       "      <td>DIS</td>\n",
       "      <td>1970-04-27</td>\n",
       "      <td>0.630692</td>\n",
       "      <td>0.630692</td>\n",
       "      <td>0.601148</td>\n",
       "      <td>0.604360</td>\n",
       "      <td>-0.026332</td>\n",
       "      <td>-0.006808</td>\n",
       "      <td>4515357</td>\n",
       "      <td>2609954.40</td>\n",
       "      <td>0.007064</td>\n",
       "      <td>73.005207</td>\n",
       "      <td>286.791524</td>\n",
       "      <td>0</td>\n",
       "    </tr>\n",
       "    <tr>\n",
       "      <th>23</th>\n",
       "      <td>DIS</td>\n",
       "      <td>1970-04-28</td>\n",
       "      <td>0.604360</td>\n",
       "      <td>0.631977</td>\n",
       "      <td>0.601791</td>\n",
       "      <td>0.615920</td>\n",
       "      <td>0.011560</td>\n",
       "      <td>-0.005973</td>\n",
       "      <td>4865687</td>\n",
       "      <td>2759817.55</td>\n",
       "      <td>0.011560</td>\n",
       "      <td>76.304662</td>\n",
       "      <td>-293.541080</td>\n",
       "      <td>0</td>\n",
       "    </tr>\n",
       "  </tbody>\n",
       "</table>\n",
       "</div>"
      ],
      "text/plain": [
       "   ticker       date      open      high       low     close    O-to-C  \\\n",
       "19    DIS 1970-04-22  0.675007  0.675650  0.661520  0.666016 -0.008991   \n",
       "20    DIS 1970-04-23  0.663447  0.663447  0.647391  0.655098 -0.008349   \n",
       "21    DIS 1970-04-24  0.653813  0.653813  0.634546  0.634546 -0.019267   \n",
       "22    DIS 1970-04-27  0.630692  0.630692  0.601148  0.604360 -0.026332   \n",
       "23    DIS 1970-04-28  0.604360  0.631977  0.601791  0.615920  0.011560   \n",
       "\n",
       "    OC-20D-Mean   volume  Volume-20D-Mean  MaxOC_Prev10  \\\n",
       "19    -0.002762  3503294       2232377.15      0.007064   \n",
       "20    -0.003950  4184491       2310228.15      0.007064   \n",
       "21    -0.005042  4671059       2439655.40      0.007064   \n",
       "22    -0.006808  4515357       2609954.40      0.007064   \n",
       "23    -0.005973  4865687       2759817.55      0.011560   \n",
       "\n",
       "    Volume-%-from-20D-Mean  OC-%-from-20D-Mean  breakout_signal  \n",
       "19               56.931099          225.560014                0  \n",
       "20               81.128907          111.374949                0  \n",
       "21               91.463885          282.156637                0  \n",
       "22               73.005207          286.791524                0  \n",
       "23               76.304662         -293.541080                0  "
      ]
     },
     "execution_count": 7,
     "metadata": {},
     "output_type": "execute_result"
    }
   ],
   "source": [
    "#Creating a new column so we can assign binary values\n",
    "prices['breakout_signal'] = np.where(condition, 1, 0)\n",
    "prices.head()"
   ]
  },
  {
   "cell_type": "markdown",
   "id": "951cee2b-146e-48b9-87d9-d5b35fc49b46",
   "metadata": {
    "tags": []
   },
   "source": [
    "## Clean Dataset Function for X"
   ]
  },
  {
   "cell_type": "code",
   "execution_count": 8,
   "id": "89df79a1-192d-4ca6-830e-db038a31a468",
   "metadata": {
    "tags": []
   },
   "outputs": [],
   "source": [
    "# gets rid of null and infinite values \n",
    "def clean_dataset(df):\n",
    "    assert isinstance(df, pd.DataFrame), \"df needs to be a pd.DataFrame\"\n",
    "    df.dropna(inplace=True)\n",
    "    indices_to_keep = ~df.isin([np.nan, np.inf, -np.inf]).any(axis=1)\n",
    "    return df[indices_to_keep].astype(np.float64)"
   ]
  },
  {
   "cell_type": "markdown",
   "id": "fed9ba45-388e-43b3-9279-5b2a501afb41",
   "metadata": {
    "tags": []
   },
   "source": [
    "## Prepare X and Y "
   ]
  },
  {
   "cell_type": "code",
   "execution_count": 9,
   "id": "99afc030-5e7f-4ecb-ad0a-1bce8da2cf45",
   "metadata": {
    "tags": []
   },
   "outputs": [],
   "source": [
    "#Create raw X and Y \n",
    "X = prices[['O-to-C', 'OC-20D-Mean', 'Volume-20D-Mean', 'MaxOC_Prev10', 'Volume-%-from-20D-Mean', 'OC-%-from-20D-Mean']]\n",
    "y = prices['breakout_signal'] \n",
    "\n",
    "#clean data\n",
    "X.replace([np.inf, -np.inf], np.nan, inplace=True)\n",
    "X.fillna(999, inplace=True)\n",
    "\n",
    "# train test split \n",
    "X_train, X_test, y_train, y_test = train_test_split(X, \n",
    "                                                    y, \n",
    "                                                    random_state=1, \n",
    "                                                    stratify=y)\n",
    "#scaling \n",
    "# Instantiate a StandardScaler instance\n",
    "scaler = StandardScaler()\n",
    "\n",
    "# Fit the training data to the standard scaler\n",
    "X_scaler = scaler.fit(X_train)\n",
    "\n",
    "# Transform the training data using the scaler\n",
    "X_train_scaled = X_scaler.transform(X_train)\n",
    "\n",
    "# Transform the testing data using the scaler\n",
    "X_test_scaled = X_scaler.transform(X_test)"
   ]
  },
  {
   "cell_type": "markdown",
   "id": "53711291-41e4-4674-818f-b7cc2a57db89",
   "metadata": {
    "tags": []
   },
   "source": [
    "## Predict"
   ]
  },
  {
   "cell_type": "code",
   "execution_count": 10,
   "id": "354eafd5-ef60-4267-b534-6a9e9b510c53",
   "metadata": {
    "tags": []
   },
   "outputs": [
    {
     "name": "stdout",
     "output_type": "stream",
     "text": [
      "              precision    recall  f1-score   support\n",
      "\n",
      "           0       0.98      1.00      0.99      3338\n",
      "           1       0.00      0.00      0.00        51\n",
      "\n",
      "    accuracy                           0.98      3389\n",
      "   macro avg       0.49      0.50      0.50      3389\n",
      "weighted avg       0.97      0.98      0.98      3389\n",
      "\n"
     ]
    }
   ],
   "source": [
    "#Model\n",
    "classifier = LogisticRegression(solver='lbfgs', random_state=1)\n",
    "#Fit\n",
    "classifier.fit(X_train, y_train) \n",
    "#Predict\n",
    "predictions = classifier.predict(X_test)\n",
    "#evaluate \n",
    "print(classification_report(y_test, predictions))"
   ]
  },
  {
   "cell_type": "markdown",
   "id": "8fa7fdea-8783-443f-9ece-ef88254478c8",
   "metadata": {
    "tags": []
   },
   "source": [
    "### Although our model has a high global accuracy, it's clear that it cannot predict breakouts for Disney."
   ]
  },
  {
   "cell_type": "markdown",
   "id": "f8c64a8b-13a0-43c5-b1e8-ddcfaf589e8e",
   "metadata": {},
   "source": [
    "# Are we using the wrong model? Let's try XGBoost"
   ]
  },
  {
   "cell_type": "code",
   "execution_count": 11,
   "id": "90d5a461-061f-48cf-a623-74b960e8f616",
   "metadata": {
    "tags": []
   },
   "outputs": [
    {
     "name": "stdout",
     "output_type": "stream",
     "text": [
      "              precision    recall  f1-score   support\n",
      "\n",
      "           0       1.00      1.00      1.00      3338\n",
      "           1       0.75      0.75      0.75        51\n",
      "\n",
      "    accuracy                           0.99      3389\n",
      "   macro avg       0.87      0.87      0.87      3389\n",
      "weighted avg       0.99      0.99      0.99      3389\n",
      "\n"
     ]
    }
   ],
   "source": [
    "# LabelEncoder which is specific to XGB \n",
    "le = LabelEncoder()\n",
    "y_train = le.fit_transform(y_train)\n",
    "\n",
    "#Model\n",
    "classifier = xgb.XGBClassifier() ## notice different classifier \n",
    "#Fit\n",
    "classifier.fit(X_train, y_train)\n",
    "#Predict\n",
    "predictions = classifier.predict(X_test)\n",
    "#evaluate \n",
    "y_pred = classifier.predict(X_test)\n",
    "print(classification_report(y_test,y_pred))"
   ]
  },
  {
   "cell_type": "markdown",
   "id": "2e8199bb-3081-4b80-af17-5430677e7e76",
   "metadata": {},
   "source": [
    "### We noticed marked improvement by simply changing the classifier to XGBoost. "
   ]
  },
  {
   "cell_type": "markdown",
   "id": "13e6edcc-44ac-436c-b64b-3a9657429026",
   "metadata": {},
   "source": [
    "# We know we have an Imbalanced Class issue. Will under or over sampling help improve XGBoost results? "
   ]
  },
  {
   "cell_type": "markdown",
   "id": "2056476d-333d-4635-9775-6acd8ba24d8d",
   "metadata": {},
   "source": [
    "## Create X and Y Over and Under Sampled Versions"
   ]
  },
  {
   "cell_type": "code",
   "execution_count": 12,
   "id": "25dda58d-c1f9-4dd9-9c67-c652137cb8bf",
   "metadata": {
    "tags": []
   },
   "outputs": [],
   "source": [
    "# Instantiate the RandomOverSampler instance\n",
    "random_oversampler = RandomOverSampler(random_state=1)\n",
    "\n",
    "# create X and Y Oversampled\n",
    "X_over, y_over = random_oversampler.fit_resample(X_train, y_train)\n",
    "\n",
    "\n",
    "# Instantiate the RandomUnderSampler instance\n",
    "rus = RandomUnderSampler(random_state=1)\n",
    "\n",
    "# create X and Y Undersampled \n",
    "X_under, y_under = rus.fit_resample(X_train, y_train)"
   ]
  },
  {
   "cell_type": "markdown",
   "id": "c31f9182-04d3-403f-b9ec-7386c81153af",
   "metadata": {},
   "source": [
    "## Oversampling Result"
   ]
  },
  {
   "cell_type": "code",
   "execution_count": 13,
   "id": "b0f249db-5bfa-41e4-8367-003510eb28f8",
   "metadata": {
    "tags": []
   },
   "outputs": [
    {
     "name": "stdout",
     "output_type": "stream",
     "text": [
      "              precision    recall  f1-score   support\n",
      "\n",
      "           0       1.00      0.99      1.00      3338\n",
      "           1       0.66      0.78      0.71        51\n",
      "\n",
      "    accuracy                           0.99      3389\n",
      "   macro avg       0.83      0.89      0.85      3389\n",
      "weighted avg       0.99      0.99      0.99      3389\n",
      "\n"
     ]
    }
   ],
   "source": [
    "# LabelEncoder which is specific to XGB \n",
    "le = LabelEncoder()\n",
    "y_train = le.fit_transform(y_train)\n",
    "\n",
    "#Model\n",
    "classifier = xgb.XGBClassifier() \n",
    "#Fit\n",
    "classifier.fit(X_over, y_over)\n",
    "#Predict\n",
    "predictions = classifier.predict(X_test)\n",
    "#evaluate \n",
    "y_pred = classifier.predict(X_test)\n",
    "print(classification_report(y_test,y_pred))"
   ]
  },
  {
   "cell_type": "markdown",
   "id": "574013c6-439e-4297-9b29-aa40d665dca3",
   "metadata": {},
   "source": [
    "## Undersampling Result"
   ]
  },
  {
   "cell_type": "code",
   "execution_count": 14,
   "id": "665b6a34-50ce-4786-8a4d-1de26b2d1335",
   "metadata": {
    "tags": []
   },
   "outputs": [
    {
     "name": "stdout",
     "output_type": "stream",
     "text": [
      "              precision    recall  f1-score   support\n",
      "\n",
      "           0       1.00      0.98      0.99      3338\n",
      "           1       0.46      0.94      0.62        51\n",
      "\n",
      "    accuracy                           0.98      3389\n",
      "   macro avg       0.73      0.96      0.80      3389\n",
      "weighted avg       0.99      0.98      0.99      3389\n",
      "\n"
     ]
    }
   ],
   "source": [
    "# LabelEncoder which is specific to XGB \n",
    "le = LabelEncoder()\n",
    "y_train = le.fit_transform(y_train)\n",
    "\n",
    "#Model\n",
    "classifier = xgb.XGBClassifier() \n",
    "#Fit\n",
    "classifier.fit(X_under, y_under )\n",
    "#Predict\n",
    "predictions = classifier.predict(X_test)\n",
    "#evaluate \n",
    "y_pred = classifier.predict(X_test)\n",
    "print(classification_report(y_test,y_pred))"
   ]
  },
  {
   "cell_type": "markdown",
   "id": "ff566cbc-6961-46b8-b44c-07e3ec5b5050",
   "metadata": {},
   "source": [
    "#### After testing different combinations of sampling and classifiers, here are the results: \n",
    "###### 1. XGB Over\n",
    "###### 2. XGB\n",
    "###### 3. XGB Under\n",
    "###### 4. LogisticRegression"
   ]
  },
  {
   "cell_type": "markdown",
   "id": "f63fcebd-4676-4a26-90b7-ae9597c1d3b8",
   "metadata": {},
   "source": [
    "# Let's try a decision tree!"
   ]
  },
  {
   "cell_type": "code",
   "execution_count": 15,
   "id": "815fd7bc-bc5d-4dda-a2c2-fbd997631756",
   "metadata": {
    "tags": []
   },
   "outputs": [
    {
     "name": "stdout",
     "output_type": "stream",
     "text": [
      "              precision    recall  f1-score   support\n",
      "\n",
      "           0       0.99      1.00      1.00      3338\n",
      "           1       0.70      0.61      0.65        51\n",
      "\n",
      "    accuracy                           0.99      3389\n",
      "   macro avg       0.85      0.80      0.82      3389\n",
      "weighted avg       0.99      0.99      0.99      3389\n",
      "\n"
     ]
    }
   ],
   "source": [
    "#Model\n",
    "classifier = DecisionTreeClassifier()\n",
    "#Fit\n",
    "classifier.fit(X_over, y_over)\n",
    "#Predict\n",
    "predictions = classifier.predict(X_test)\n",
    "#evaluate \n",
    "y_pred = classifier.predict(X_test)\n",
    "print(classification_report(y_test,y_pred))"
   ]
  },
  {
   "cell_type": "markdown",
   "id": "011b9773-97f4-4805-83a0-cbc0f28dbbc7",
   "metadata": {},
   "source": [
    "# Let's try a support vector classifier!!"
   ]
  },
  {
   "cell_type": "code",
   "execution_count": 16,
   "id": "e04d1b8a-ea2a-488e-9fff-5278e9f710cc",
   "metadata": {
    "tags": []
   },
   "outputs": [
    {
     "name": "stdout",
     "output_type": "stream",
     "text": [
      "              precision    recall  f1-score   support\n",
      "\n",
      "           0       0.99      0.21      0.35      3338\n",
      "           1       0.02      0.90      0.03        51\n",
      "\n",
      "    accuracy                           0.22      3389\n",
      "   macro avg       0.51      0.56      0.19      3389\n",
      "weighted avg       0.98      0.22      0.34      3389\n",
      "\n"
     ]
    }
   ],
   "source": [
    "#Model\n",
    "classifier = SVC()\n",
    "#Fit\n",
    "classifier.fit(X_over, y_over)\n",
    "#Predict\n",
    "predictions = classifier.predict(X_test)\n",
    "#evaluate \n",
    "y_pred = classifier.predict(X_test)\n",
    "print(classification_report(y_test,y_pred))"
   ]
  },
  {
   "cell_type": "code",
   "execution_count": null,
   "id": "59eecca8-851e-4d9b-84f5-084609d2319f",
   "metadata": {},
   "outputs": [],
   "source": []
  }
 ],
 "metadata": {
  "kernelspec": {
   "display_name": "Python 3 (ipykernel)",
   "language": "python",
   "name": "python3"
  },
  "language_info": {
   "codemirror_mode": {
    "name": "ipython",
    "version": 3
   },
   "file_extension": ".py",
   "mimetype": "text/x-python",
   "name": "python",
   "nbconvert_exporter": "python",
   "pygments_lexer": "ipython3",
   "version": "3.11.4"
  }
 },
 "nbformat": 4,
 "nbformat_minor": 5
}
